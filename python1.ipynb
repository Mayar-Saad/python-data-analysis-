{
 "cells": [
  {
   "cell_type": "code",
   "execution_count": 20,
   "id": "c164c5f8-5c71-4392-a037-44c07ef5001b",
   "metadata": {},
   "outputs": [],
   "source": [
    "#data types& variables\n",
    "a=100"
   ]
  },
  {
   "cell_type": "code",
   "execution_count": 21,
   "id": "42bdca4b-e23b-46b9-a523-aa1e87044d31",
   "metadata": {},
   "outputs": [
    {
     "name": "stdout",
     "output_type": "stream",
     "text": [
      "140703150126616\n",
      "140703150126616\n"
     ]
    }
   ],
   "source": [
    "print(id(a))\n",
    "print(id(100))"
   ]
  },
  {
   "cell_type": "code",
   "execution_count": 22,
   "id": "5bf14027-c041-4b42-8da6-f832ded9b5f4",
   "metadata": {},
   "outputs": [],
   "source": [
    "b=100\n"
   ]
  },
  {
   "cell_type": "code",
   "execution_count": 23,
   "id": "b42f462e-0513-4c28-a4a4-2ad806a5441e",
   "metadata": {},
   "outputs": [
    {
     "name": "stdout",
     "output_type": "stream",
     "text": [
      "140703150126616\n",
      "140703150126616\n"
     ]
    }
   ],
   "source": [
    "print(id(b))\n",
    "print(id(100))"
   ]
  },
  {
   "cell_type": "code",
   "execution_count": 24,
   "id": "e9ac9ee7-252e-4f3a-ab7b-47dca059f9b4",
   "metadata": {},
   "outputs": [],
   "source": [
    "c=257\n",
    "d=257"
   ]
  },
  {
   "cell_type": "code",
   "execution_count": 25,
   "id": "1666b106-bc64-4e75-95c5-569398738dd6",
   "metadata": {},
   "outputs": [
    {
     "name": "stdout",
     "output_type": "stream",
     "text": [
      "1804608194192\n",
      "1804608192784\n"
     ]
    }
   ],
   "source": [
    "print(id(c))\n",
    "print(id(d))"
   ]
  },
  {
   "cell_type": "raw",
   "id": "c24fb1d6-1294-46b9-a601-d42939d766c6",
   "metadata": {},
   "source": [
    "print(id(257))"
   ]
  },
  {
   "cell_type": "code",
   "execution_count": 34,
   "id": "49dc02e8-2003-4482-ba02-b912b06c7421",
   "metadata": {},
   "outputs": [
    {
     "name": "stdout",
     "output_type": "stream",
     "text": [
      "<class 'int'>\n"
     ]
    }
   ],
   "source": [
    "print(type(10)) #int"
   ]
  },
  {
   "cell_type": "code",
   "execution_count": 40,
   "id": "bec6ca92-c309-42c8-aae9-c845d27a2ed2",
   "metadata": {},
   "outputs": [
    {
     "name": "stdout",
     "output_type": "stream",
     "text": [
      "<class 'float'>\n"
     ]
    }
   ],
   "source": [
    "print(type(20.1)) #float"
   ]
  },
  {
   "cell_type": "code",
   "execution_count": 42,
   "id": "49149e04-bf13-4cc8-a545-ac5f0108ca54",
   "metadata": {},
   "outputs": [
    {
     "name": "stdout",
     "output_type": "stream",
     "text": [
      "<class 'int'>\n"
     ]
    }
   ],
   "source": [
    "print(type(-10)) #int"
   ]
  },
  {
   "cell_type": "code",
   "execution_count": 44,
   "id": "c35f9cdf-a9e1-4b64-b590-f477bda38731",
   "metadata": {},
   "outputs": [
    {
     "name": "stdout",
     "output_type": "stream",
     "text": [
      "<class 'float'>\n"
     ]
    }
   ],
   "source": [
    "print(type(-20.1)) #float"
   ]
  },
  {
   "cell_type": "code",
   "execution_count": 46,
   "id": "2d2d9e25-2d13-4c38-b3c5-44843ed0573c",
   "metadata": {},
   "outputs": [
    {
     "name": "stdout",
     "output_type": "stream",
     "text": [
      "<class 'str'>\n"
     ]
    }
   ],
   "source": [
    "print(type(\"python\")) #string"
   ]
  },
  {
   "cell_type": "code",
   "execution_count": 54,
   "id": "589501f3-24e1-4422-b51a-3d03aefdaff2",
   "metadata": {},
   "outputs": [
    {
     "name": "stdout",
     "output_type": "stream",
     "text": [
      "<class 'bool'>\n",
      "False\n"
     ]
    }
   ],
   "source": [
    "print (type(1==1)) #bool-yes,no\n",
    "print (2==1) #bool-yes,no"
   ]
  },
  {
   "cell_type": "code",
   "execution_count": 56,
   "id": "ce04a477-599c-4a25-b362-07a2802c3d64",
   "metadata": {},
   "outputs": [],
   "source": [
    "a=[1,2,3,4,5,6,7,8]"
   ]
  },
  {
   "cell_type": "code",
   "execution_count": 62,
   "id": "a2d491ef-ebf3-4065-bf00-319978b8c736",
   "metadata": {},
   "outputs": [
    {
     "name": "stdout",
     "output_type": "stream",
     "text": [
      "<class 'list'>\n"
     ]
    }
   ],
   "source": [
    "print(type(a)) #list"
   ]
  },
  {
   "cell_type": "code",
   "execution_count": 64,
   "id": "502bdbac-942e-4db3-9fbb-b39790d4780d",
   "metadata": {},
   "outputs": [],
   "source": [
    "b=(1,2,3,4,5,6,7,8)"
   ]
  },
  {
   "cell_type": "code",
   "execution_count": 66,
   "id": "737d8195-d3e6-4d38-8ec9-0e8aec6d1fe7",
   "metadata": {},
   "outputs": [
    {
     "name": "stdout",
     "output_type": "stream",
     "text": [
      "<class 'tuple'>\n"
     ]
    }
   ],
   "source": [
    "print(type(b))#tuple"
   ]
  },
  {
   "cell_type": "code",
   "execution_count": 68,
   "id": "1eceb4e3-d698-4637-89e0-c217d05f2942",
   "metadata": {},
   "outputs": [],
   "source": [
    "c={\"one\":1,\"two\":2,\"three\":3,\"four\":4}"
   ]
  },
  {
   "cell_type": "code",
   "execution_count": 72,
   "id": "ba4d56d8-7e40-4db1-a0c1-c7b823da9ee8",
   "metadata": {},
   "outputs": [
    {
     "name": "stdout",
     "output_type": "stream",
     "text": [
      "<class 'dict'>\n"
     ]
    }
   ],
   "source": [
    "print(type(c)) #dictionarty"
   ]
  },
  {
   "cell_type": "code",
   "execution_count": 84,
   "id": "22a77111-672b-4eb2-87d8-bb4ab74c469b",
   "metadata": {},
   "outputs": [],
   "source": [
    "Age=30\n",
    "myAge=20 #camelcase\n",
    "my_age=40 #snake_case\n",
    "age=50"
   ]
  },
  {
   "cell_type": "raw",
   "id": "23f097aa-0776-46dd-83a3-6f3ecb545441",
   "metadata": {},
   "source": [
    "print (Age)\n",
    "print (myAge)\n",
    "print (my_age)\n",
    "print (age)"
   ]
  },
  {
   "cell_type": "code",
   "execution_count": 86,
   "id": "ca281ff8-e74d-46b0-a341-9d3174454e3d",
   "metadata": {},
   "outputs": [
    {
     "name": "stdout",
     "output_type": "stream",
     "text": [
      "50\n",
      "20\n",
      "40\n",
      "30\n"
     ]
    }
   ],
   "source": [
    "print (age)\n",
    "print (myAge)\n",
    "print (my_age)\n",
    "print (Age)"
   ]
  },
  {
   "cell_type": "code",
   "execution_count": 88,
   "id": "9dca5793-062d-4f9f-82e1-a843beede106",
   "metadata": {},
   "outputs": [
    {
     "name": "stdout",
     "output_type": "stream",
     "text": [
      "\n",
      "Here is a list of the Python keywords.  Enter any keyword to get more help.\n",
      "\n",
      "False               class               from                or\n",
      "None                continue            global              pass\n",
      "True                def                 if                  raise\n",
      "and                 del                 import              return\n",
      "as                  elif                in                  try\n",
      "assert              else                is                  while\n",
      "async               except              lambda              with\n",
      "await               finally             nonlocal            yield\n",
      "break               for                 not                 \n",
      "\n"
     ]
    }
   ],
   "source": [
    "help(\"keywords\")"
   ]
  },
  {
   "cell_type": "code",
   "execution_count": 90,
   "id": "dbb409f9-9ea1-47c8-a503-c470b254c99b",
   "metadata": {},
   "outputs": [],
   "source": [
    "a,b,c=1,2,3"
   ]
  },
  {
   "cell_type": "code",
   "execution_count": 92,
   "id": "74f4e905-9085-4d29-9df7-ed4c71eb7fa7",
   "metadata": {},
   "outputs": [
    {
     "name": "stdout",
     "output_type": "stream",
     "text": [
      "3\n"
     ]
    }
   ],
   "source": [
    "print(c)"
   ]
  },
  {
   "cell_type": "code",
   "execution_count": 96,
   "id": "c88e2977-02f7-429b-999d-883250d41d7a",
   "metadata": {},
   "outputs": [],
   "source": [
    "a,b,c=1,2,3"
   ]
  },
  {
   "cell_type": "code",
   "execution_count": 98,
   "id": "33ed59fb-8be7-4f47-8fe2-d5616e696942",
   "metadata": {},
   "outputs": [],
   "source": [
    "#String\n"
   ]
  },
  {
   "cell_type": "code",
   "execution_count": 100,
   "id": "6fb81a81-4f68-46d7-98d9-4ca20f6592ff",
   "metadata": {},
   "outputs": [],
   "source": [
    "#concatenation"
   ]
  },
  {
   "cell_type": "code",
   "execution_count": 104,
   "id": "84c86784-e12d-4ba5-b3b1-5de4f161015d",
   "metadata": {},
   "outputs": [],
   "source": [
    "first_name=\"mayar\"\n",
    "last_name=\"khalifa\""
   ]
  },
  {
   "cell_type": "code",
   "execution_count": 110,
   "id": "5c69d7ca-34c0-4573-9536-2d7522d46082",
   "metadata": {},
   "outputs": [
    {
     "name": "stdout",
     "output_type": "stream",
     "text": [
      "mayar khalifa\n"
     ]
    }
   ],
   "source": [
    "print(first_name+\" \"+last_name)"
   ]
  },
  {
   "cell_type": "code",
   "execution_count": 112,
   "id": "0a2400b6-350b-4d76-a456-51938640c299",
   "metadata": {},
   "outputs": [],
   "source": [
    "FullName=first_name+\" \"+last_name"
   ]
  },
  {
   "cell_type": "code",
   "execution_count": 114,
   "id": "5e032dc5-e564-4948-8ab2-f284c14144a4",
   "metadata": {},
   "outputs": [
    {
     "name": "stdout",
     "output_type": "stream",
     "text": [
      "mayar khalifa\n"
     ]
    }
   ],
   "source": [
    "print(FullName)"
   ]
  },
  {
   "cell_type": "code",
   "execution_count": 116,
   "id": "7a6c7f42-c350-4ec6-9465-64a91cf5f16c",
   "metadata": {},
   "outputs": [
    {
     "name": "stdout",
     "output_type": "stream",
     "text": [
      "python is the best\n"
     ]
    }
   ],
   "source": [
    "print(\"python is the best\")"
   ]
  },
  {
   "cell_type": "code",
   "execution_count": 166,
   "id": "2b908aa8-9255-4bb5-95e5-857277ae641b",
   "metadata": {},
   "outputs": [
    {
     "name": "stdout",
     "output_type": "stream",
     "text": [
      "python is \n",
      "the best\n"
     ]
    }
   ],
   "source": [
    "print(\"python is \\nthe best\" )"
   ]
  },
  {
   "cell_type": "code",
   "execution_count": 168,
   "id": "83172e4e-7757-4650-b7f0-9f006907366c",
   "metadata": {},
   "outputs": [
    {
     "name": "stdout",
     "output_type": "stream",
     "text": [
      "python is \tthe best\n"
     ]
    }
   ],
   "source": [
    "print(\"python is \\tthe best\")"
   ]
  },
  {
   "cell_type": "code",
   "execution_count": 126,
   "id": "89d628af-43c5-4865-b165-8fab9f26a131",
   "metadata": {},
   "outputs": [],
   "source": [
    "#INDEXING\n"
   ]
  },
  {
   "cell_type": "code",
   "execution_count": null,
   "id": "420a3666-df3b-4895-9d0a-1c8e09ef9b90",
   "metadata": {},
   "outputs": [],
   "source": []
  },
  {
   "cell_type": "code",
   "execution_count": 136,
   "id": "fa6ef064-1a9a-4808-9a86-054a83ec298d",
   "metadata": {},
   "outputs": [],
   "source": [
    "string1=\"python is the best\""
   ]
  },
  {
   "cell_type": "code",
   "execution_count": 144,
   "id": "8daaa2a8-b980-4428-8aa1-c518b169f444",
   "metadata": {},
   "outputs": [
    {
     "name": "stdout",
     "output_type": "stream",
     "text": [
      "p\n"
     ]
    }
   ],
   "source": [
    "print(string1[0])"
   ]
  },
  {
   "cell_type": "raw",
   "id": "06d1a159-586a-4687-876b-b4fc2bd64dec",
   "metadata": {},
   "source": []
  },
  {
   "cell_type": "code",
   "execution_count": 146,
   "id": "f3e602cb-e7be-489e-bc88-8493c33531bc",
   "metadata": {},
   "outputs": [
    {
     "name": "stdout",
     "output_type": "stream",
     "text": [
      "s\n"
     ]
    }
   ],
   "source": [
    "print(string1[-2])"
   ]
  },
  {
   "cell_type": "code",
   "execution_count": 150,
   "id": "716de32f-1506-4b8a-899e-03b218b694a7",
   "metadata": {},
   "outputs": [
    {
     "name": "stdout",
     "output_type": "stream",
     "text": [
      "python is the best\n"
     ]
    }
   ],
   "source": [
    "print (string1[0:])"
   ]
  },
  {
   "cell_type": "code",
   "execution_count": 170,
   "id": "47134bbf-d3e4-4961-b49b-b7e6d6f696cb",
   "metadata": {},
   "outputs": [],
   "source": [
    "#slicing"
   ]
  },
  {
   "cell_type": "code",
   "execution_count": 152,
   "id": "588b0c8b-2ddf-4fcf-b10d-60582c2408ab",
   "metadata": {},
   "outputs": [
    {
     "name": "stdout",
     "output_type": "stream",
     "text": [
      "python\n"
     ]
    }
   ],
   "source": [
    "print (string1[0:6])"
   ]
  },
  {
   "cell_type": "code",
   "execution_count": 154,
   "id": "bc0aefdd-9a06-4a22-8b03-d310944a25ca",
   "metadata": {},
   "outputs": [
    {
     "name": "stdout",
     "output_type": "stream",
     "text": [
      "pytho\n"
     ]
    }
   ],
   "source": [
    "print(string1[:5])"
   ]
  },
  {
   "cell_type": "code",
   "execution_count": 158,
   "id": "ed0c5620-bef8-4175-9ffd-bd5e304173e8",
   "metadata": {},
   "outputs": [
    {
     "name": "stdout",
     "output_type": "stream",
     "text": [
      "python is the best\n"
     ]
    }
   ],
   "source": [
    "print(string1[:])#full_data"
   ]
  },
  {
   "cell_type": "raw",
   "id": "bb79ed1d-9d4c-4620-8c85-3594cba2fef5",
   "metadata": {},
   "source": [
    "print(string1[0:10])"
   ]
  },
  {
   "cell_type": "code",
   "execution_count": 162,
   "id": "e17d5dfe-c523-4ab5-86d4-518e3264d57a",
   "metadata": {},
   "outputs": [
    {
     "name": "stdout",
     "output_type": "stream",
     "text": [
      "ph  \n"
     ]
    }
   ],
   "source": [
    "print(string1[0:10:3])"
   ]
  },
  {
   "cell_type": "code",
   "execution_count": 174,
   "id": "61511ee6-63a8-45b9-b18e-d6f6693dc904",
   "metadata": {},
   "outputs": [],
   "source": [
    "#strip ,rstrip ,lstrip"
   ]
  },
  {
   "cell_type": "code",
   "execution_count": 176,
   "id": "a2c013b8-672b-4fdf-9190-aa0bd5a4ddfa",
   "metadata": {},
   "outputs": [],
   "source": [
    "a=\"     python is the best    \""
   ]
  },
  {
   "cell_type": "code",
   "execution_count": 178,
   "id": "d023ff69-5f92-4235-a687-37b8904bef4e",
   "metadata": {},
   "outputs": [
    {
     "name": "stdout",
     "output_type": "stream",
     "text": [
      "     python is the best    \n"
     ]
    }
   ],
   "source": [
    "print(a)"
   ]
  },
  {
   "cell_type": "code",
   "execution_count": 182,
   "id": "4132d1e7-d7d1-42d2-8a54-75443ab3b031",
   "metadata": {},
   "outputs": [
    {
     "name": "stdout",
     "output_type": "stream",
     "text": [
      "python is the best\n"
     ]
    }
   ],
   "source": [
    "print(a.strip())"
   ]
  },
  {
   "cell_type": "code",
   "execution_count": 184,
   "id": "91695628-61cd-4d2e-9fe4-8b044ae7e9f3",
   "metadata": {},
   "outputs": [
    {
     "name": "stdout",
     "output_type": "stream",
     "text": [
      "     python is the best\n"
     ]
    }
   ],
   "source": [
    "print(a.rstrip())"
   ]
  },
  {
   "cell_type": "code",
   "execution_count": 186,
   "id": "5ba519bd-2d32-4b5d-99d1-fa6d5457472d",
   "metadata": {},
   "outputs": [
    {
     "name": "stdout",
     "output_type": "stream",
     "text": [
      "python is the best    \n"
     ]
    }
   ],
   "source": [
    "print(a.lstrip())"
   ]
  },
  {
   "cell_type": "code",
   "execution_count": 190,
   "id": "bccdd2fd-d72d-40d3-9ff7-c17e6883b07f",
   "metadata": {},
   "outputs": [],
   "source": [
    "a=\"@@@@python is the best@@@@\""
   ]
  },
  {
   "cell_type": "code",
   "execution_count": 192,
   "id": "a1e218a1-3772-4984-8641-2b253845aa63",
   "metadata": {},
   "outputs": [
    {
     "name": "stdout",
     "output_type": "stream",
     "text": [
      "@@@@python is the best@@@@\n"
     ]
    }
   ],
   "source": [
    "print(a)"
   ]
  },
  {
   "cell_type": "code",
   "execution_count": 196,
   "id": "06a14213-42a8-4c27-b34c-52ab37535b41",
   "metadata": {},
   "outputs": [
    {
     "name": "stdout",
     "output_type": "stream",
     "text": [
      "python is the best\n"
     ]
    }
   ],
   "source": [
    "print(a.strip(\"@\"))"
   ]
  },
  {
   "cell_type": "code",
   "execution_count": 198,
   "id": "716420ed-42e2-4f6d-9c81-f86af97fcc46",
   "metadata": {},
   "outputs": [
    {
     "name": "stdout",
     "output_type": "stream",
     "text": [
      "@@@@python is the best\n"
     ]
    }
   ],
   "source": [
    "print(a.rstrip(\"@\"))"
   ]
  },
  {
   "cell_type": "code",
   "execution_count": 200,
   "id": "1630ed51-869f-4b67-838b-00949756c370",
   "metadata": {},
   "outputs": [
    {
     "name": "stdout",
     "output_type": "stream",
     "text": [
      "python is the best@@@@\n"
     ]
    }
   ],
   "source": [
    "print(a.lstrip(\"@\"))"
   ]
  },
  {
   "cell_type": "raw",
   "id": "9e844013-5485-439f-96c9-d6153fbd2a82",
   "metadata": {},
   "source": [
    "string\n"
   ]
  },
  {
   "cell_type": "code",
   "execution_count": null,
   "id": "8a28aefa-9221-4363-9a56-d9f325546586",
   "metadata": {},
   "outputs": [],
   "source": []
  }
 ],
 "metadata": {
  "kernelspec": {
   "display_name": "Python [conda env:base] *",
   "language": "python",
   "name": "conda-base-py"
  },
  "language_info": {
   "codemirror_mode": {
    "name": "ipython",
    "version": 3
   },
   "file_extension": ".py",
   "mimetype": "text/x-python",
   "name": "python",
   "nbconvert_exporter": "python",
   "pygments_lexer": "ipython3",
   "version": "3.12.7"
  }
 },
 "nbformat": 4,
 "nbformat_minor": 5
}
