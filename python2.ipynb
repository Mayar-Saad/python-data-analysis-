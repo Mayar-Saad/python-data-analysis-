{
 "cells": [
  {
   "cell_type": "markdown",
   "id": "2aad0f3b-03f1-4f35-a3a0-b53fd872dab3",
   "metadata": {},
   "source": [
    "task2"
   ]
  },
  {
   "cell_type": "code",
   "execution_count": 2,
   "id": "a82c4dd9-b495-4945-9fac-0126a5bb3cf1",
   "metadata": {},
   "outputs": [],
   "source": [
    "#1-\tCreate a tuple and write in comments it’s characteristics "
   ]
  },
  {
   "cell_type": "code",
   "execution_count": 4,
   "id": "dc8fb532-988a-43a4-9be2-13107364175f",
   "metadata": {},
   "outputs": [],
   "source": [
    "colors=(1,2,\"red\",\"blue\",10,20)"
   ]
  },
  {
   "cell_type": "code",
   "execution_count": 10,
   "id": "0e0aa014-5757-4ba4-8256-e30bd28699a7",
   "metadata": {},
   "outputs": [],
   "source": [
    "#characteristics:\n",
    "#different types of values\n",
    "#not unique\n",
    "#ordered( index)\n",
    "#included in()\n",
    "#Immutable"
   ]
  },
  {
   "cell_type": "code",
   "execution_count": 14,
   "id": "1d6f74c5-8030-4fdd-99bb-de59d6199ece",
   "metadata": {},
   "outputs": [
    {
     "name": "stdout",
     "output_type": "stream",
     "text": [
      "<class 'tuple'>\n"
     ]
    }
   ],
   "source": [
    "print(type(colors))"
   ]
  },
  {
   "cell_type": "code",
   "execution_count": 16,
   "id": "bb8514d4-7fa0-49c3-a28e-9e960909c78a",
   "metadata": {},
   "outputs": [],
   "source": [
    "no=(1,2,7,5,8)"
   ]
  },
  {
   "cell_type": "code",
   "execution_count": 18,
   "id": "4a21cd69-a37a-4e61-887f-d33a0fb58a01",
   "metadata": {},
   "outputs": [],
   "source": [
    "#2-\tConcatenate 2 tuples "
   ]
  },
  {
   "cell_type": "code",
   "execution_count": 20,
   "id": "aa3a9897-f8bf-4bc5-871c-f590ceec39bc",
   "metadata": {},
   "outputs": [],
   "source": [
    "data=(colors+no)"
   ]
  },
  {
   "cell_type": "code",
   "execution_count": 22,
   "id": "444e661c-c4a9-4fd5-a351-e53899f8f8c2",
   "metadata": {},
   "outputs": [
    {
     "name": "stdout",
     "output_type": "stream",
     "text": [
      "(1, 2, 'red', 'blue', 10, 20, 1, 2, 7, 5, 8)\n"
     ]
    }
   ],
   "source": [
    "print(data)"
   ]
  },
  {
   "cell_type": "code",
   "execution_count": 24,
   "id": "b23ecf35-2dcc-402a-9ec3-79702d31c716",
   "metadata": {},
   "outputs": [],
   "source": [
    "#3-\tCount repeated item in tuple "
   ]
  },
  {
   "cell_type": "code",
   "execution_count": 26,
   "id": "011fb05f-8f88-495a-b38b-1a441cfae0ca",
   "metadata": {},
   "outputs": [
    {
     "data": {
      "text/plain": [
       "2"
      ]
     },
     "execution_count": 26,
     "metadata": {},
     "output_type": "execute_result"
    }
   ],
   "source": [
    "data.count(1)"
   ]
  },
  {
   "cell_type": "code",
   "execution_count": 28,
   "id": "3fa08887-d603-4a6a-a337-8790c4fb1862",
   "metadata": {},
   "outputs": [],
   "source": [
    "#4-\tGet item index in tuple "
   ]
  },
  {
   "cell_type": "code",
   "execution_count": 30,
   "id": "38b687e3-49b2-4614-bee4-72511a177250",
   "metadata": {},
   "outputs": [
    {
     "name": "stdout",
     "output_type": "stream",
     "text": [
      "7\n"
     ]
    }
   ],
   "source": [
    "print(no[2])"
   ]
  },
  {
   "cell_type": "code",
   "execution_count": 32,
   "id": "7d2e9872-0f14-46a7-876d-572fa28f8448",
   "metadata": {},
   "outputs": [],
   "source": [
    "#5-\t Create a Set and write in comments it’s characteristics "
   ]
  },
  {
   "cell_type": "code",
   "execution_count": 45,
   "id": "83f66e3a-96ca-472d-82dc-f9809bfdbd08",
   "metadata": {},
   "outputs": [],
   "source": [
    "sports={\"ali\",2,25,1.1,2}"
   ]
  },
  {
   "cell_type": "code",
   "execution_count": 47,
   "id": "d5ab9463-ef9d-4e5e-9551-4fcd719cb07a",
   "metadata": {},
   "outputs": [
    {
     "name": "stdout",
     "output_type": "stream",
     "text": [
      "<class 'set'>\n"
     ]
    }
   ],
   "source": [
    "print(type(sports))"
   ]
  },
  {
   "cell_type": "code",
   "execution_count": 49,
   "id": "9e1d0ac0-0acc-4c33-b899-3911f8aa8234",
   "metadata": {},
   "outputs": [],
   "source": [
    "#characteristics\n",
    "#different types of date\n",
    "#{}\n",
    "#not ordered(no index)\n",
    "#unique\n",
    "#immutable"
   ]
  },
  {
   "cell_type": "code",
   "execution_count": 51,
   "id": "9510983b-74cd-42e5-a7e8-a541b6a5ee1d",
   "metadata": {},
   "outputs": [
    {
     "name": "stdout",
     "output_type": "stream",
     "text": [
      "{'ali', 2, 1.1, 25}\n"
     ]
    }
   ],
   "source": [
    "print(sports)"
   ]
  },
  {
   "cell_type": "code",
   "execution_count": 57,
   "id": "02fa4968-55a6-4cda-94df-2e811c2342d7",
   "metadata": {},
   "outputs": [],
   "source": [
    "#6-\tTry to access item in a set using index "
   ]
  },
  {
   "cell_type": "code",
   "execution_count": 59,
   "id": "e1ef1d1d-9739-4cc7-b803-3250adf17cc1",
   "metadata": {},
   "outputs": [
    {
     "ename": "TypeError",
     "evalue": "'set' object is not subscriptable",
     "output_type": "error",
     "traceback": [
      "\u001b[1;31m---------------------------------------------------------------------------\u001b[0m",
      "\u001b[1;31mTypeError\u001b[0m                                 Traceback (most recent call last)",
      "Cell \u001b[1;32mIn[59], line 1\u001b[0m\n\u001b[1;32m----> 1\u001b[0m \u001b[38;5;28mprint\u001b[39m(sports[\u001b[38;5;241m0\u001b[39m])\n",
      "\u001b[1;31mTypeError\u001b[0m: 'set' object is not subscriptable"
     ]
    }
   ],
   "source": [
    "print(sports[0])"
   ]
  },
  {
   "cell_type": "code",
   "execution_count": 61,
   "id": "6212837e-6fa3-4a0d-8025-bf4bd9f6febf",
   "metadata": {},
   "outputs": [],
   "source": [
    "#7-\tClear all items in a set "
   ]
  },
  {
   "cell_type": "code",
   "execution_count": 65,
   "id": "32f2f63e-c29a-4661-8bcb-b509f56d656c",
   "metadata": {},
   "outputs": [],
   "source": [
    "sports.clear()"
   ]
  },
  {
   "cell_type": "code",
   "execution_count": 67,
   "id": "4bc32720-00df-4d41-a13b-5fcb60479b00",
   "metadata": {},
   "outputs": [
    {
     "name": "stdout",
     "output_type": "stream",
     "text": [
      "set()\n"
     ]
    }
   ],
   "source": [
    "print(sports)"
   ]
  },
  {
   "cell_type": "code",
   "execution_count": 69,
   "id": "046b6b29-4886-4688-ab0f-6ff06d860cd0",
   "metadata": {},
   "outputs": [],
   "source": [
    "#8-\tUnion 2 sets "
   ]
  },
  {
   "cell_type": "code",
   "execution_count": 85,
   "id": "b55180fa-81e8-4345-bd44-1f0081c360e1",
   "metadata": {},
   "outputs": [],
   "source": [
    "no={1,5,3,7}\n",
    "name={\"ali\",\"saga\",\"nor\"}"
   ]
  },
  {
   "cell_type": "code",
   "execution_count": 87,
   "id": "a5e64c0f-253a-442c-a047-9a288ab0ef22",
   "metadata": {},
   "outputs": [
    {
     "name": "stdout",
     "output_type": "stream",
     "text": [
      "{1, 3, 5, 7}\n"
     ]
    }
   ],
   "source": [
    "print(no)"
   ]
  },
  {
   "cell_type": "code",
   "execution_count": 89,
   "id": "20f06b62-8542-4cb2-b3b3-1fb6aedf0c03",
   "metadata": {},
   "outputs": [
    {
     "name": "stdout",
     "output_type": "stream",
     "text": [
      "{1, 'ali', 3, 5, 7, 'nor', 'saga'}\n"
     ]
    }
   ],
   "source": [
    "print(no.union(name))"
   ]
  },
  {
   "cell_type": "code",
   "execution_count": 91,
   "id": "88a893a7-f8a8-4cc6-8af8-a2210e671440",
   "metadata": {},
   "outputs": [],
   "source": [
    "#9-\tAdd item in a set "
   ]
  },
  {
   "cell_type": "code",
   "execution_count": 93,
   "id": "fa8577ef-e692-4f37-88d2-662258bf6188",
   "metadata": {},
   "outputs": [],
   "source": [
    "name.add(55)"
   ]
  },
  {
   "cell_type": "code",
   "execution_count": 95,
   "id": "75351ea8-f855-49f0-b7cb-b00ecaea5cbc",
   "metadata": {},
   "outputs": [
    {
     "name": "stdout",
     "output_type": "stream",
     "text": [
      "{'ali', 'nor', 'saga', 55}\n"
     ]
    }
   ],
   "source": [
    "print(name)"
   ]
  },
  {
   "cell_type": "code",
   "execution_count": 97,
   "id": "8bad2286-08c5-4bc5-beee-8fbd13c3c547",
   "metadata": {},
   "outputs": [],
   "source": [
    "#10-\tMake a copy of a set "
   ]
  },
  {
   "cell_type": "code",
   "execution_count": 99,
   "id": "7fd7be63-3ff3-4a0e-b737-e44bd062caa5",
   "metadata": {},
   "outputs": [],
   "source": [
    "data=no.copy()"
   ]
  },
  {
   "cell_type": "code",
   "execution_count": 101,
   "id": "a0bcea69-a951-48a4-a33c-7487a5e42312",
   "metadata": {},
   "outputs": [
    {
     "name": "stdout",
     "output_type": "stream",
     "text": [
      "{1, 3, 5, 7}\n"
     ]
    }
   ],
   "source": [
    "print(data)"
   ]
  },
  {
   "cell_type": "code",
   "execution_count": 103,
   "id": "6efa0fbc-0624-4ff1-9265-56a2306b50fa",
   "metadata": {},
   "outputs": [],
   "source": [
    "#11-\tRemove items from a set in 2 ways "
   ]
  },
  {
   "cell_type": "code",
   "execution_count": 109,
   "id": "6c85f1c0-2c0d-4047-bf4e-7b990e42dfa6",
   "metadata": {},
   "outputs": [],
   "source": [
    "name.remove(55)"
   ]
  },
  {
   "cell_type": "code",
   "execution_count": 111,
   "id": "0164a1a5-f44e-4652-b3c9-36cf794c664a",
   "metadata": {},
   "outputs": [
    {
     "data": {
      "text/plain": [
       "'ali'"
      ]
     },
     "execution_count": 111,
     "metadata": {},
     "output_type": "execute_result"
    }
   ],
   "source": [
    "name.pop()"
   ]
  },
  {
   "cell_type": "code",
   "execution_count": 113,
   "id": "236245b5-e1a6-4597-9884-3f297d04a27f",
   "metadata": {},
   "outputs": [
    {
     "name": "stdout",
     "output_type": "stream",
     "text": [
      "{'nor', 'saga'}\n"
     ]
    }
   ],
   "source": [
    "print(name)"
   ]
  },
  {
   "cell_type": "code",
   "execution_count": 115,
   "id": "0e08df17-7e72-418d-9798-930dc92a119d",
   "metadata": {},
   "outputs": [],
   "source": [
    "#12-\tCreate a dictionary and write in comments it’s characteristics"
   ]
  },
  {
   "cell_type": "code",
   "execution_count": 124,
   "id": "1254b410-9745-41e9-889f-ec8ad84c8bf2",
   "metadata": {},
   "outputs": [],
   "source": [
    "students={\n",
    "    \"name\":\"ali\",\n",
    "    \"subject\":\"math\",\n",
    "    \"GPA\":\"3\"\n",
    "}"
   ]
  },
  {
   "cell_type": "code",
   "execution_count": 126,
   "id": "6f49e503-ebb5-4d7b-bff7-4f56b1ef9447",
   "metadata": {},
   "outputs": [],
   "source": [
    "#characteristics\n",
    "#{}\n",
    "#different data types\n",
    "#KEYS:unique,immutable\n",
    "#values:not unique,mutable\n",
    "#not ordered"
   ]
  },
  {
   "cell_type": "code",
   "execution_count": 128,
   "id": "67756135-da2a-47e9-b2d1-33fd3d259fcb",
   "metadata": {},
   "outputs": [],
   "source": [
    "#13-\tGet a value inside a dictionary "
   ]
  },
  {
   "cell_type": "code",
   "execution_count": 132,
   "id": "b6976d1b-b909-4fff-9cd6-e3289a9a2401",
   "metadata": {},
   "outputs": [
    {
     "name": "stdout",
     "output_type": "stream",
     "text": [
      "3\n"
     ]
    }
   ],
   "source": [
    "print(students[\"GPA\"])"
   ]
  },
  {
   "cell_type": "code",
   "execution_count": 134,
   "id": "a465de38-60cc-4d5b-92a6-49887d92dfd8",
   "metadata": {},
   "outputs": [],
   "source": [
    "#14-\tGet all dictionary keys and values "
   ]
  },
  {
   "cell_type": "code",
   "execution_count": 138,
   "id": "8a0a329c-c853-4cc4-ac4f-82dc5d3498ca",
   "metadata": {},
   "outputs": [
    {
     "name": "stdout",
     "output_type": "stream",
     "text": [
      "dict_keys(['name', 'subject', 'GPA'])\n"
     ]
    }
   ],
   "source": [
    "print(students.keys())"
   ]
  },
  {
   "cell_type": "code",
   "execution_count": 140,
   "id": "e7930d3e-3b70-4fca-9fd9-52cef7db0e1e",
   "metadata": {},
   "outputs": [
    {
     "name": "stdout",
     "output_type": "stream",
     "text": [
      "dict_values(['ali', 'math', '3'])\n"
     ]
    }
   ],
   "source": [
    "print(students.values())"
   ]
  },
  {
   "cell_type": "code",
   "execution_count": 142,
   "id": "1dd52bcc-4761-495f-b834-52089a0b1a72",
   "metadata": {},
   "outputs": [],
   "source": [
    "#15-\tCreate a dictionary inside a dictionary then get values form both of them"
   ]
  },
  {
   "cell_type": "code",
   "execution_count": 162,
   "id": "55b21d33-ae41-4e22-8add-5b44a6b1d7b2",
   "metadata": {},
   "outputs": [],
   "source": [
    "staff={\n",
    "    \"ID1\":{\n",
    "    \"name\":\"nor\",\n",
    "    \"job\":\"HR\",\n",
    "    \"salary\":\"55\"},\n",
    "\"ID2\":{\n",
    "    \"Name\":\"ali\",\n",
    "    \"job\":\"manager\",\n",
    "    \"salary\":\"14\"}\n",
    "}"
   ]
  },
  {
   "cell_type": "code",
   "execution_count": 164,
   "id": "044417bf-1a62-453d-9c39-b13e9fbdaf2a",
   "metadata": {},
   "outputs": [
    {
     "name": "stdout",
     "output_type": "stream",
     "text": [
      "manager\n"
     ]
    }
   ],
   "source": [
    "print(staff[\"ID2\"][\"job\"])"
   ]
  },
  {
   "cell_type": "code",
   "execution_count": 166,
   "id": "f3aa31a3-9a82-4532-afc0-fed57f13f0c1",
   "metadata": {},
   "outputs": [
    {
     "name": "stdout",
     "output_type": "stream",
     "text": [
      "{'Name': 'ali', 'job': 'manager', 'salary': '14'}\n"
     ]
    }
   ],
   "source": [
    "print(staff[\"ID2\"])"
   ]
  },
  {
   "cell_type": "code",
   "execution_count": 168,
   "id": "681b45b6-8797-4c8e-ad1d-44cb4293193b",
   "metadata": {},
   "outputs": [],
   "source": [
    "#16-\tUpdate dictionary values"
   ]
  },
  {
   "cell_type": "code",
   "execution_count": 180,
   "id": "eae29554-8efc-4a45-b0e1-fe81aa207318",
   "metadata": {},
   "outputs": [],
   "source": [
    "staff.update({\"ID2\":\"40\"})"
   ]
  },
  {
   "cell_type": "code",
   "execution_count": 182,
   "id": "136147f4-8401-418e-9b32-149749b376ef",
   "metadata": {},
   "outputs": [
    {
     "name": "stdout",
     "output_type": "stream",
     "text": [
      "{'ID1': {'name': 'nor', 'job': 'HR', 'salary': '55'}, 'ID2': '40', 'salary': '40'}\n"
     ]
    }
   ],
   "source": [
    "print(staff)"
   ]
  },
  {
   "cell_type": "code",
   "execution_count": 184,
   "id": "a6235e78-a414-4a6d-82a5-f1b862351631",
   "metadata": {},
   "outputs": [],
   "source": [
    "#17-\tGet an input from the user and save it in a variable "
   ]
  },
  {
   "cell_type": "code",
   "execution_count": 188,
   "id": "c7654f5a-5eb6-43c8-8996-6d8bff590e5c",
   "metadata": {},
   "outputs": [
    {
     "name": "stdin",
     "output_type": "stream",
     "text": [
      "enter your age 50\n"
     ]
    }
   ],
   "source": [
    "age=input(\"enter your age\")"
   ]
  },
  {
   "cell_type": "code",
   "execution_count": 190,
   "id": "abf8b0f3-9d67-4540-a4ed-901b99904f8d",
   "metadata": {},
   "outputs": [],
   "source": [
    "#18-\tCreate a list and write in comments it’s characteristics "
   ]
  },
  {
   "cell_type": "code",
   "execution_count": 220,
   "id": "70b5dd97-4e24-4fe9-a49b-e1b4cdaee812",
   "metadata": {},
   "outputs": [],
   "source": [
    "clothes=[\"hat\",\"bag\",\"gloves\",22,55,33]"
   ]
  },
  {
   "cell_type": "code",
   "execution_count": 222,
   "id": "490af662-670f-408f-a382-c08694d574d3",
   "metadata": {},
   "outputs": [
    {
     "name": "stdout",
     "output_type": "stream",
     "text": [
      "<class 'list'>\n"
     ]
    }
   ],
   "source": [
    "print(type(clothes))"
   ]
  },
  {
   "cell_type": "code",
   "execution_count": 224,
   "id": "d07765fd-dc9f-47c0-84da-2b588a2c2c32",
   "metadata": {},
   "outputs": [],
   "source": [
    "#characteristics \n",
    "#[]\n",
    "#not unique\n",
    "#mutable\n",
    "#ordered(index)\n",
    "#different types of values"
   ]
  },
  {
   "cell_type": "code",
   "execution_count": 226,
   "id": "6f1609aa-a7e7-473e-be4f-1a41b0234e8a",
   "metadata": {},
   "outputs": [],
   "source": [
    "#19-\tAdd , remove , update items in a list \n"
   ]
  },
  {
   "cell_type": "code",
   "execution_count": 228,
   "id": "fea68121-28fb-4ba8-9b40-6f90509e0ab7",
   "metadata": {},
   "outputs": [],
   "source": [
    "clothes.append(99)"
   ]
  },
  {
   "cell_type": "code",
   "execution_count": 230,
   "id": "6444fe76-c9b0-4f00-9864-edb18e36659b",
   "metadata": {},
   "outputs": [
    {
     "data": {
      "text/plain": [
       "'gloves'"
      ]
     },
     "execution_count": 230,
     "metadata": {},
     "output_type": "execute_result"
    }
   ],
   "source": [
    "clothes.pop(2)"
   ]
  },
  {
   "cell_type": "code",
   "execution_count": 232,
   "id": "527db406-5555-414a-ae78-5965908f219f",
   "metadata": {},
   "outputs": [],
   "source": [
    "clothes[-3]=100"
   ]
  },
  {
   "cell_type": "code",
   "execution_count": 234,
   "id": "557b1ecd-6718-4a79-b289-53955d747024",
   "metadata": {},
   "outputs": [
    {
     "name": "stdout",
     "output_type": "stream",
     "text": [
      "['hat', 'bag', 22, 100, 33, 99]\n"
     ]
    }
   ],
   "source": [
    "print(clothes)"
   ]
  },
  {
   "cell_type": "code",
   "execution_count": null,
   "id": "56882c71-56a7-4bea-aad5-572f91378947",
   "metadata": {},
   "outputs": [],
   "source": [
    "#20-\tSort a list "
   ]
  },
  {
   "cell_type": "code",
   "execution_count": 241,
   "id": "bcc1d575-485c-4d2a-8876-ffa1ea0c85ed",
   "metadata": {},
   "outputs": [],
   "source": [
    "gpa=[4,2.5,3,1,2]"
   ]
  },
  {
   "cell_type": "code",
   "execution_count": 247,
   "id": "2321ecd3-1933-44e0-be38-3af974a21795",
   "metadata": {},
   "outputs": [],
   "source": [
    "gpa.sort()"
   ]
  },
  {
   "cell_type": "code",
   "execution_count": 249,
   "id": "266b0fda-72fe-4530-84dd-324c00155b7b",
   "metadata": {},
   "outputs": [
    {
     "name": "stdout",
     "output_type": "stream",
     "text": [
      "[1, 2, 2.5, 3, 4]\n"
     ]
    }
   ],
   "source": [
    "print(gpa)"
   ]
  },
  {
   "cell_type": "code",
   "execution_count": 251,
   "id": "c54a53db-c67d-4de4-ae55-cd3970e76d84",
   "metadata": {},
   "outputs": [],
   "source": [
    "#21-\tRevers a list "
   ]
  },
  {
   "cell_type": "code",
   "execution_count": 253,
   "id": "d4f9da1b-2b30-41c3-885c-41dfc2334701",
   "metadata": {},
   "outputs": [],
   "source": [
    "gpa.reverse()"
   ]
  },
  {
   "cell_type": "code",
   "execution_count": 255,
   "id": "fe69ae26-61ba-45f5-a212-0a5309e67d81",
   "metadata": {},
   "outputs": [
    {
     "name": "stdout",
     "output_type": "stream",
     "text": [
      "[4, 3, 2.5, 2, 1]\n"
     ]
    }
   ],
   "source": [
    "print(gpa)"
   ]
  },
  {
   "cell_type": "code",
   "execution_count": 259,
   "id": "ade3ffef-aa7e-47eb-8a7f-60a4369f0618",
   "metadata": {},
   "outputs": [],
   "source": [
    "#22-\tApply the 3 ways of string formatting "
   ]
  },
  {
   "cell_type": "code",
   "execution_count": 311,
   "id": "b98e103b-36c7-437f-9288-4475df33c3f6",
   "metadata": {},
   "outputs": [
    {
     "name": "stdin",
     "output_type": "stream",
     "text": [
      "enter your age 25\n",
      "enter your name sara\n"
     ]
    }
   ],
   "source": [
    "age=input(\"enter your age\")\n",
    "first_name=input(\"enter your name\")"
   ]
  },
  {
   "cell_type": "code",
   "execution_count": 313,
   "id": "86ccb74c-175f-435c-9141-64c1f629cf28",
   "metadata": {},
   "outputs": [
    {
     "name": "stdout",
     "output_type": "stream",
     "text": [
      "<class 'str'>\n"
     ]
    }
   ],
   "source": [
    "print(type(age))"
   ]
  },
  {
   "cell_type": "code",
   "execution_count": 315,
   "id": "3284a9ac-fb79-42ab-b7a9-095e7324d454",
   "metadata": {},
   "outputs": [
    {
     "name": "stdout",
     "output_type": "stream",
     "text": [
      "hello sara Iam 25years old\n"
     ]
    }
   ],
   "source": [
    "print(f\"hello {first_name} Iam {age}years old\")"
   ]
  },
  {
   "cell_type": "code",
   "execution_count": 317,
   "id": "10bdb7a2-ce5f-4408-b847-512a02799f59",
   "metadata": {},
   "outputs": [
    {
     "name": "stdout",
     "output_type": "stream",
     "text": [
      "my name is sara, I am 25 years old\n"
     ]
    }
   ],
   "source": [
    "print(\"my name is %s, I am %s years old\" % (first_name, age))\n"
   ]
  },
  {
   "cell_type": "code",
   "execution_count": 319,
   "id": "2ea00146-1fac-44df-998e-b503c7c40787",
   "metadata": {},
   "outputs": [
    {
     "name": "stdout",
     "output_type": "stream",
     "text": [
      "my name is sara, I am 25 years old\n"
     ]
    }
   ],
   "source": [
    "print(\"my name is {}, I am {} years old\".format(first_name, age))\n"
   ]
  },
  {
   "cell_type": "code",
   "execution_count": null,
   "id": "6657e38d-7200-4576-8ce7-a30790b17d57",
   "metadata": {},
   "outputs": [],
   "source": []
  },
  {
   "cell_type": "code",
   "execution_count": null,
   "id": "689acc5a-8bfb-4db9-a96e-eac0b4d3fa9d",
   "metadata": {},
   "outputs": [],
   "source": []
  },
  {
   "cell_type": "code",
   "execution_count": null,
   "id": "4fdb1b79-a30d-4897-a15d-30e0b933dc01",
   "metadata": {},
   "outputs": [],
   "source": []
  }
 ],
 "metadata": {
  "kernelspec": {
   "display_name": "Python [conda env:base] *",
   "language": "python",
   "name": "conda-base-py"
  },
  "language_info": {
   "codemirror_mode": {
    "name": "ipython",
    "version": 3
   },
   "file_extension": ".py",
   "mimetype": "text/x-python",
   "name": "python",
   "nbconvert_exporter": "python",
   "pygments_lexer": "ipython3",
   "version": "3.12.7"
  }
 },
 "nbformat": 4,
 "nbformat_minor": 5
}
